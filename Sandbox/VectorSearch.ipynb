{
  "cells": [
    {
      "cell_type": "code",
      "execution_count": 7,
      "metadata": {
        "colab": {
          "base_uri": "https://localhost:8080/"
        },
        "id": "7dtgLxkQBVU4",
        "outputId": "3f8c01bd-e43c-4b87-c5d9-032d3c7ecf01"
      },
      "outputs": [],
      "source": [
        "import RagPUREAI\n",
        "from RagPUREAI import WebLoader, ChunkDefault"
      ]
    },
    {
      "cell_type": "code",
      "execution_count": 8,
      "metadata": {},
      "outputs": [
        {
          "name": "stdout",
          "output_type": "stream",
          "text": [
            "{'cohere': ['embed-english-light-v3.0'], 'huggingface': ['bge-small', 'bge-large'], 'openai': ['text-embedding-ada-002', 'text-embedding-3-small', '...']}\n"
          ]
        }
      ],
      "source": [
        "from RagPUREAI import embedding_model_map\n",
        "print(embedding_model_map)"
      ]
    },
    {
      "cell_type": "code",
      "execution_count": null,
      "metadata": {
        "colab": {
          "base_uri": "https://localhost:8080/"
        },
        "id": "Id24_ARrT_KY",
        "outputId": "aa82d813-2eb6-4260-f680-cb82953b626a"
      },
      "outputs": [],
      "source": [
        "import os\n",
        "os.environ[\"OPENAI_API_KEY\"] = \"YOUR-OPENAI-KEY\""
      ]
    },
    {
      "cell_type": "code",
      "execution_count": 10,
      "metadata": {
        "id": "UZD-yrgDBVU5"
      },
      "outputs": [
        {
          "name": "stdout",
          "output_type": "stream",
          "text": [
            "Scrapped https://www.espn.com/\n"
          ]
        }
      ],
      "source": [
        "loader = WebLoader(\"https://www.espn.com/\")\n",
        "docs = loader.Load()"
      ]
    },
    {
      "cell_type": "code",
      "execution_count": 11,
      "metadata": {
        "colab": {
          "base_uri": "https://localhost:8080/"
        },
        "id": "uESlIyRnGB6o",
        "outputId": "2c70b965-4e04-44ba-b5de-173d2901108a"
      },
      "outputs": [
        {
          "data": {
            "text/plain": [
              "<RagPUREAI.ChunkDefault at 0x7f90180cef30>"
            ]
          },
          "execution_count": 11,
          "metadata": {},
          "output_type": "execute_result"
        }
      ],
      "source": [
        "chunk_default = ChunkDefault(chunk_size=420, overlap=60, items_opt=docs, max_workers=4)\n",
        "chunk_default"
      ]
    },
    {
      "cell_type": "markdown",
      "metadata": {},
      "source": [
        "# Embedding Results by Model\n",
        "\n",
        "Below are the results obtained after running `chunk_default.CreateEmb()` with different OpenAI models.  \n",
        "*(`text-embedding-ada-002` is used as a default.)*\n",
        "\n",
        "## Summary Table\n",
        "\n",
        "| Model                        | Vendor | Dimension (dim) | Number of Chunks (n) | Flatten Size (`flatVD.size`) |\n",
        "|------------------------------|--------|-----------------|----------------------|-------------------------------|\n",
        "| text-embedding-ada-002       | openai | 1536            | 24                   | 36,864                        |\n",
        "| text-embedding-3-small       | openai | 1536            | 24                   | 36,864                        |\n",
        "| text-embedding-3-large       | openai | 3072            | 24                   | 73,728                        |\n",
        "\n",
        "---\n",
        "\n",
        "## Details by Model\n",
        "\n",
        "### 1. `text-embedding-ada-002`\n",
        "\n",
        "```plaintext\n",
        "Flatten vector dimensions: <36864>\n",
        "dim: 1536 → n: 24 → expected size: 36864\n",
        "Model: text-embedding-ada-002, openai\n",
        "\n",
        "VDBdata(\n",
        "    flatVD = [-0.0164003, -0.00974306, 0.0139928, -0.011572, -0.0230242, ...],\n",
        "    flatVD.size = 36864,\n",
        "    model = 'text-embedding-ada-002',\n",
        "    vendor = 'openai',\n",
        "    dim = 1536,\n",
        "    n = 24\n",
        ")\n"
      ]
    },
    {
      "cell_type": "code",
      "execution_count": 12,
      "metadata": {},
      "outputs": [
        {
          "name": "stderr",
          "output_type": "stream",
          "text": [
            "[OpenAI::GenerateEmbeddings exception] {\"code\":\"billing_not_active\",\"message\":\"Your account is not active, please check your billing details on our website.\",\"param\":null,\"type\":\"billing_not_active\"} (attempt 1)\n",
            "[OpenAI::GenerateEmbeddings exception] {\"code\":\"billing_not_active\",\"message\":\"Your account is not active, please check your billing details on our website.\",\"param\":null,\"type\":\"billing_not_active\"} (attempt 2)\n",
            "[OpenAI::GenerateEmbeddings exception] {\"code\":\"billing_not_active\",\"message\":\"Your account is not active, please check your billing details on our website.\",\"param\":null,\"type\":\"billing_not_active\"} (attempt 3)\n",
            "[Exception] Failed to generate valid embeddings after 3 attempts.\n"
          ]
        },
        {
          "ename": "RuntimeError",
          "evalue": "Failed to generate valid embeddings after 3 attempts.",
          "output_type": "error",
          "traceback": [
            "\u001b[31m---------------------------------------------------------------------------\u001b[39m",
            "\u001b[31mRuntimeError\u001b[39m                              Traceback (most recent call last)",
            "\u001b[36mCell\u001b[39m\u001b[36m \u001b[39m\u001b[32mIn[12]\u001b[39m\u001b[32m, line 1\u001b[39m\n\u001b[32m----> \u001b[39m\u001b[32m1\u001b[39m \u001b[43mchunk_default\u001b[49m\u001b[43m.\u001b[49m\u001b[43mCreateEmb\u001b[49m\u001b[43m(\u001b[49m\u001b[43m)\u001b[49m\n",
            "\u001b[31mRuntimeError\u001b[39m: Failed to generate valid embeddings after 3 attempts."
          ]
        }
      ],
      "source": [
        "chunk_default.CreateEmb()"
      ]
    },
    {
      "cell_type": "code",
      "execution_count": 14,
      "metadata": {},
      "outputs": [
        {
          "name": "stderr",
          "output_type": "stream",
          "text": [
            "[OpenAI::GenerateEmbeddings exception] {\"code\":\"billing_not_active\",\"message\":\"Your account is not active, please check your billing details on our website.\",\"param\":null,\"type\":\"billing_not_active\"} (attempt 1)\n",
            "[OpenAI::GenerateEmbeddings exception] {\"code\":\"billing_not_active\",\"message\":\"Your account is not active, please check your billing details on our website.\",\"param\":null,\"type\":\"billing_not_active\"} (attempt 2)\n",
            "[OpenAI::GenerateEmbeddings exception] {\"code\":\"billing_not_active\",\"message\":\"Your account is not active, please check your billing details on our website.\",\"param\":null,\"type\":\"billing_not_active\"} (attempt 3)\n",
            "[Exception] Failed to generate valid embeddings after 3 attempts.\n"
          ]
        },
        {
          "ename": "RuntimeError",
          "evalue": "Failed to generate valid embeddings after 3 attempts.",
          "output_type": "error",
          "traceback": [
            "\u001b[31m---------------------------------------------------------------------------\u001b[39m",
            "\u001b[31mRuntimeError\u001b[39m                              Traceback (most recent call last)",
            "\u001b[36mCell\u001b[39m\u001b[36m \u001b[39m\u001b[32mIn[14]\u001b[39m\u001b[32m, line 1\u001b[39m\n\u001b[32m----> \u001b[39m\u001b[32m1\u001b[39m \u001b[43mchunk_default\u001b[49m\u001b[43m.\u001b[49m\u001b[43mCreateEmb\u001b[49m\u001b[43m(\u001b[49m\u001b[33;43m\"\u001b[39;49m\u001b[33;43mtext-embedding-3-small\u001b[39;49m\u001b[33;43m\"\u001b[39;49m\u001b[43m)\u001b[49m\n",
            "\u001b[31mRuntimeError\u001b[39m: Failed to generate valid embeddings after 3 attempts."
          ]
        }
      ],
      "source": [
        "chunk_default.CreateEmb(\"text-embedding-3-small\")"
      ]
    },
    {
      "cell_type": "code",
      "execution_count": null,
      "metadata": {},
      "outputs": [
        {
          "name": "stdout",
          "output_type": "stream",
          "text": [
            "Flatten vector dimensions: <70656>\n",
            "dim: 3072 n: 23 → expected size: 70656\n",
            "Model text-embedding-3-large, openai\n",
            "______________________________________________________________________________________\n",
            "|  Model: text-embedding-3-large was added to chunks                                    \n",
            "|_____________________________________________________________________________________|\n"
          ]
        },
        {
          "data": {
            "text/plain": [
              "VDBdata(\n",
              "  flatVD = [0.0366267, 0.0108322, -0.0039584, 0.0206926, -0.0455404, 0.00583078, 0.0461771, 0.0477186, ...]\n",
              "  flatVD.size = 70656,\n",
              "  model = 'text-embedding-3-large',\n",
              "  vendor = 'openai',\n",
              "  dim = 3072,\n",
              "  n = 23\n",
              ")"
            ]
          },
          "execution_count": 10,
          "metadata": {},
          "output_type": "execute_result"
        }
      ],
      "source": [
        "chunk_default.CreateEmb(\"text-embedding-3-large\")"
      ]
    },
    {
      "cell_type": "code",
      "execution_count": 13,
      "metadata": {},
      "outputs": [
        {
          "name": "stdout",
          "output_type": "stream",
          "text": [
            "This chunk elements is not available.\n"
          ]
        }
      ],
      "source": [
        "chunk_default.printVD()"
      ]
    },
    {
      "cell_type": "markdown",
      "metadata": {},
      "source": [
        "---\n",
        "---"
      ]
    },
    {
      "cell_type": "code",
      "execution_count": null,
      "metadata": {},
      "outputs": [],
      "source": [
        "#-----------------------------------------------------------------------------------------------------------------\n",
        "from RagPUREAI import PureCosine, PureIP, PureL2"
      ]
    },
    {
      "cell_type": "code",
      "execution_count": null,
      "metadata": {},
      "outputs": [
        {
          "data": {
            "text/plain": [
              "PureResult(\n",
              "  query: 'Playoff',\n",
              "  index: [9, 8, 21, 4],\n",
              "  distances: [0.4066, 0.3835, 0.3833, 0.3810],\n",
              "  query_embed: [0.0258, -0.0375, -0.0212, 0.0033, -0.0075, -0.0061, 0.0021, 0.0370, ...],\n",
              "  chunks: [\n",
              " [0]: 'Document(metadata={}, page_content=\"test playoff games of the Eastern Conference finals. 14h NBA insiders J.R. Smith crashes Brunson'...\")'\n",
              "\n",
              " [1]: 'Document(metadata={}, page_content=\"s could have interesting salary cap fallout. 6h Dan Graziano Barnwell's NFC offseason superlative...\")'\n",
              "\n",
              " [2]: 'Document(metadata={}, page_content=\"valishvili vs. O'Malley 2 (Jun. 7, ESPN+ PPV) Quick Links NBA Playoffs Stanley Cup Playoffs Frenc...\")'\n",
              "\n",
              " [3]: 'Document(metadata={}, page_content=\"experts break down the 2025 field and give their takes on who can advance to Omaha. 6h ESPN ⚾ F...\")'\n",
              "\n",
              "]"
            ]
          },
          "execution_count": 12,
          "metadata": {},
          "output_type": "execute_result"
        }
      ],
      "source": [
        "PureCosine(\"Playoff\", chunk_default, 1, 4)"
      ]
    },
    {
      "cell_type": "code",
      "execution_count": null,
      "metadata": {},
      "outputs": [
        {
          "data": {
            "text/plain": [
              "PureResult(\n",
              "  query: 'Playoff',\n",
              "  index: [21, 9, 8, 1, 17],\n",
              "  distances: [0.8222, 0.8195, 0.8108, 0.7996, 0.7970],\n",
              "  query_embed: [-0.0187, 0.0000, -0.0039, -0.0072, -0.0470, 0.0238, -0.0083, -0.0021, ...],\n",
              "  chunks: [\n",
              " [0]: 'Document(metadata={}, page_content=\"valishvili vs. O'Malley 2 (Jun. 7, ESPN+ PPV) Quick Links NBA Playoffs Stanley Cup Playoffs Frenc...\")'\n",
              "\n",
              " [1]: 'Document(metadata={}, page_content=\"test playoff games of the Eastern Conference finals. 14h NBA insiders J.R. Smith crashes Brunson'...\")'\n",
              "\n",
              " [2]: 'Document(metadata={}, page_content=\"s could have interesting salary cap fallout. 6h Dan Graziano Barnwell's NFC offseason superlative...\")'\n",
              "\n",
              " [3]: 'Document(metadata={}, page_content=\"Watch ESPN BET ESPN+ Subscribe Now NCAA Women's College World Series NCAA Baseball Tournament: Re...\")'\n",
              "\n",
              " [4]: 'Document(metadata={}, page_content=\"atriots: How close are the Patriots to returning to winning? The Patriots have revamped their fro...\")'\n",
              "\n",
              "]"
            ]
          },
          "execution_count": 13,
          "metadata": {},
          "output_type": "execute_result"
        }
      ],
      "source": [
        "PureIP(\"Playoff\", chunk_default, 0, 5)"
      ]
    },
    {
      "cell_type": "code",
      "execution_count": null,
      "metadata": {},
      "outputs": [
        {
          "data": {
            "text/plain": [
              "PureResult(\n",
              "  query: 'Playoff',\n",
              "  index: [9, 1, 0, 19, 14],\n",
              "  distances: [0.3616, 0.3392, 0.3367, 0.3298, 0.3236],\n",
              "  query_embed: [0.0045, 0.0009, -0.0094, 0.0127, -0.0343, 0.0141, -0.0097, 0.0827, ...],\n",
              "  chunks: [\n",
              " [0]: 'Document(metadata={}, page_content=\"test playoff games of the Eastern Conference finals. 14h NBA insiders J.R. Smith crashes Brunson'...\")'\n",
              "\n",
              " [1]: 'Document(metadata={}, page_content=\"Watch ESPN BET ESPN+ Subscribe Now NCAA Women's College World Series NCAA Baseball Tournament: Re...\")'\n",
              "\n",
              " [2]: 'Document(metadata={}, page_content=\"\\n        Skip to main content\\n     \\n        Skip to navigation\\n     < > Menu ESPN scores NFL ...\")'\n",
              "\n",
              " [3]: 'Document(metadata={}, page_content=\"A League Join a Public League Practice With a Mock Draft Sign up for FREE! Reactivate A League Cr...\")'\n",
              "\n",
              " [4]: 'Document(metadata={}, page_content=\"ds club-record $147M for Wirtz Braves' Sale fastest to reach 2,500 career K's Swiatek, Sabalenka ...\")'\n",
              "\n",
              "]"
            ]
          },
          "execution_count": 14,
          "metadata": {},
          "output_type": "execute_result"
        }
      ],
      "source": [
        "PureIP(\"Playoff\", chunk_default, 2, 5)"
      ]
    },
    {
      "cell_type": "code",
      "execution_count": null,
      "metadata": {},
      "outputs": [
        {
          "data": {
            "text/plain": [
              "PureResult(\n",
              "  query: 'Playoff',\n",
              "  index: [21],\n",
              "  distances: [0.3557],\n",
              "  query_embed: [-0.0187, 0.0000, -0.0039, -0.0072, -0.0470, 0.0238, -0.0083, -0.0021, ...],\n",
              "  chunks: [\n",
              " [0]: 'Document(metadata={}, page_content=\"valishvili vs. O'Malley 2 (Jun. 7, ESPN+ PPV) Quick Links NBA Playoffs Stanley Cup Playoffs Frenc...\")'\n",
              "\n",
              "]"
            ]
          },
          "execution_count": 15,
          "metadata": {},
          "output_type": "execute_result"
        }
      ],
      "source": [
        "PureL2(\"Playoff\", chunk_default, 0, 1)"
      ]
    },
    {
      "cell_type": "code",
      "execution_count": null,
      "metadata": {},
      "outputs": [],
      "source": [
        "result = PureL2(\"Playoff\", chunk_default, 2, 6)"
      ]
    }
  ],
  "metadata": {
    "colab": {
      "provenance": []
    },
    "kernelspec": {
      "display_name": "venv",
      "language": "python",
      "name": "python3"
    },
    "language_info": {
      "codemirror_mode": {
        "name": "ipython",
        "version": 3
      },
      "file_extension": ".py",
      "mimetype": "text/x-python",
      "name": "python",
      "nbconvert_exporter": "python",
      "pygments_lexer": "ipython3",
      "version": "3.12.3"
    }
  },
  "nbformat": 4,
  "nbformat_minor": 0
}
