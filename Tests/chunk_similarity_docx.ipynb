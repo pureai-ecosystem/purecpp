{
  "cells": [
    {
      "cell_type": "code",
      "execution_count": 1,
      "metadata": {
        "id": "dcXPWBxXGES3"
      },
      "outputs": [],
      "source": [
        "# !pip uninstall purecpp_libs purecpp_extract purecpp_chunks_clean"
      ]
    },
    {
      "cell_type": "code",
      "execution_count": 2,
      "metadata": {
        "colab": {
          "base_uri": "https://localhost:8080/"
        },
        "id": "7dtgLxkQBVU4",
        "outputId": "3f8c01bd-e43c-4b87-c5d9-032d3c7ecf01"
      },
      "outputs": [],
      "source": [
        "# !pip install purecpp_libs==0.0.10 purecpp_extract==0.0.10 purecpp_chunks_clean==0.0.10 purecpp_embed==0.0.10"
      ]
    },
    {
      "cell_type": "code",
      "execution_count": null,
      "metadata": {
        "colab": {
          "base_uri": "https://localhost:8080/"
        },
        "id": "Id24_ARrT_KY",
        "outputId": "aa82d813-2eb6-4260-f680-cb82953b626a"
      },
      "outputs": [],
      "source": [
        "\n",
        "# import os\n",
        "# os.environ[\"...\"] = \"\""
      ]
    },
    {
      "cell_type": "code",
      "execution_count": 4,
      "metadata": {
        "id": "TAd_tzUZBVU5"
      },
      "outputs": [],
      "source": [
        "import purecpp_libs as libs\n",
        "from purecpp_extract import DOCXLoader\n",
        "\n",
        "import purecpp_chunks_clean as cc# import purecpp_embed as embchunked_docs"
      ]
    },
    {
      "cell_type": "code",
      "execution_count": 5,
      "metadata": {
        "id": "UZD-yrgDBVU5"
      },
      "outputs": [],
      "source": [
        "docx_loader = DOCXLoader(\"Tests/docxs/sample1.docx\")\n",
        "docx = docx_loader.Load()"
      ]
    },
    {
      "cell_type": "code",
      "execution_count": 6,
      "metadata": {},
      "outputs": [],
      "source": [
        "docx_loader2 = DOCXLoader(\"Tests/docxs/sample1.docx\")# Sobrecarregar pra poder passar uma lista\n",
        "docx2 = docx_loader2.Load() # pra q seria bom isso de fazer o load depois?"
      ]
    },
    {
      "cell_type": "code",
      "execution_count": 7,
      "metadata": {},
      "outputs": [
        {
          "data": {
            "text/plain": [
              "[Document(metadata={\"source\":\"Tests/docxs/sample1.docx\"}, page_content=\"Demonstration of DOCX support in calibre\\nThis document demonstrates the ability of the calibre D...\")]"
            ]
          },
          "execution_count": 7,
          "metadata": {},
          "output_type": "execute_result"
        }
      ],
      "source": [
        "docx"
      ]
    },
    {
      "cell_type": "code",
      "execution_count": 8,
      "metadata": {},
      "outputs": [
        {
          "data": {
            "text/plain": [
              "[Document(metadata={\"source\":\"Tests/docxs/sample1.docx\"}, page_content=\"Demonstration of DOCX support in calibre\\nThis document demonstrates the ability of the calibre D...\")]"
            ]
          },
          "execution_count": 8,
          "metadata": {},
          "output_type": "execute_result"
        }
      ],
      "source": [
        "docx2"
      ]
    },
    {
      "cell_type": "code",
      "execution_count": 9,
      "metadata": {},
      "outputs": [],
      "source": [
        "default = cc.ChunkDefault(500, 100) "
      ]
    },
    {
      "cell_type": "code",
      "execution_count": 10,
      "metadata": {},
      "outputs": [],
      "source": [
        "default_docx = default.ProcessDocuments(docx)"
      ]
    },
    {
      "cell_type": "code",
      "execution_count": 11,
      "metadata": {},
      "outputs": [
        {
          "data": {
            "text/plain": [
              "[Document(metadata={\"source\":\"Tests/docxs/sample1.docx\"}, page_content=\"Demonstration of DOCX support in calibre\\nThis document demonstrates the ability of the calibre D...\"),\n",
              " Document(metadata={\"source\":\"Tests/docxs/sample1.docx\"}, page_content=\"s, dropcaps and various types of text and paragraph level formatting.\\nTo see the DOCX conversion...\"),\n",
              " Document(metadata={\"source\":\"Tests/docxs/sample1.docx\"}, page_content=\"tting and the use of embedded fonts.\\nHere is some bold, italic, bold-italic, underlined and stru...\"),\n",
              " Document(metadata={\"source\":\"Tests/docxs/sample1.docx\"}, page_content=\"ide styles for styling rather than inline text properties as demonstrated in the previous paragra...\"),\n",
              " Document(metadata={\"source\":\"Tests/docxs/sample1.docx\"}, page_content=\"mbedded in the output ebook during conversion.\\nParagraph level formatting\\nYou can do crazy thin...\"),\n",
              " Document(metadata={\"source\":\"Tests/docxs/sample1.docx\"}, page_content=\"t a line of poetry retains its individual identity as a line even when the screen is  too narrow ...\"),\n",
              " Document(metadata={\"source\":\"Tests/docxs/sample1.docx\"}, page_content=\"While you may run into trouble with the occasional table, the vast majority of common cases shoul...\"),\n",
              " Document(metadata={\"source\":\"Tests/docxs/sample1.docx\"}, page_content=\"et’s look at a fancier table—one with alternating row colors and partial borders. This table ...\"),\n",
              " Document(metadata={\"source\":\"Tests/docxs/sample1.docx\"}, page_content=\"a nested table, i.e. a table inside another table. Additionally, the inner table has some of its ...\"),\n",
              " Document(metadata={\"source\":\"Tests/docxs/sample1.docx\"}, page_content=\"don’t fare well in ebooks.\\nStructural Elements\\nMiscellaneous structural elements you can add ...\"),\n",
              " Document(metadata={\"source\":\"Tests/docxs/sample1.docx\"}, page_content=\"start of a section. In Word it is possible to specify how many lines of text a drop-cap should us...\"),\n",
              " Document(metadata={\"source\":\"Tests/docxs/sample1.docx\"}, page_content=\"et to occupy three lines of text with a font size of 58.5 pts. Depending on the screen width and ...\"),\n",
              " Document(metadata={\"source\":\"Tests/docxs/sample1.docx\"}, page_content=\"ointing to the . Then we have a link that points back to the section on  in this document.\\nTable...\"),\n",
              " Document(metadata={\"source\":\"Tests/docxs/sample1.docx\"}, page_content=\"eir left indent, so if you want the ebook to have a multi-level Table of Contents, make sure you ...\"),\n",
              " Document(metadata={\"source\":\"Tests/docxs/sample1.docx\"}, page_content=\"gs are turned into a Table of Contents with Heading 1 being the topmost level, Heading 2 the seco...\"),\n",
              " Document(metadata={\"source\":\"Tests/docxs/sample1.docx\"}, page_content=\" green dot . Inline images do not cause breaks in the text and are usually small in size. The nex...\"),\n",
              " Document(metadata={\"source\":\"Tests/docxs/sample1.docx\"}, page_content=\"ght arrow images on the sides of this paragraph.\\nThe final type of image is a “block” image,...\"),\n",
              " Document(metadata={\"source\":\"Tests/docxs/sample1.docx\"}, page_content=\". That is because in Word, image positioning is specified in absolute units from the page boundar...\"),\n",
              " Document(metadata={\"source\":\"Tests/docxs/sample1.docx\"}, page_content=\"h the exception of lists that use fancy bullets, these get converted to regular bullets.\\nBullete...\"),\n",
              " Document(metadata={\"source\":\"Tests/docxs/sample1.docx\"}, page_content=\"ts:\\nOne\\nTwo\\nThis bullet uses an image as the bullet item\\nFour\\nFive\\nContinued Lists\\nOne\\nTw...\")]"
            ]
          },
          "execution_count": 11,
          "metadata": {},
          "output_type": "execute_result"
        }
      ],
      "source": [
        "default_docx"
      ]
    },
    {
      "cell_type": "code",
      "execution_count": null,
      "metadata": {
        "colab": {
          "base_uri": "https://localhost:8080/"
        },
        "id": "uESlIyRnGB6o",
        "outputId": "2c70b965-4e04-44ba-b5de-173d2901108a"
      },
      "outputs": [],
      "source": [
        "similarity = cc.ChunkSimilarity(\n",
        "    chunk_size=500,\n",
        "    overlap=100,\n",
        "    embedding_model=cc.EmbeddingModel.OpenAI,\n",
        "    openai_api_key=\"\"\n",
        ")"
      ]
    },
    {
      "cell_type": "code",
      "execution_count": 13,
      "metadata": {},
      "outputs": [],
      "source": [
        "similarity_docx= similarity.ProcessDocuments(docx2, 4)"
      ]
    },
    {
      "cell_type": "code",
      "execution_count": 16,
      "metadata": {},
      "outputs": [
        {
          "data": {
            "text/plain": [
              "[Document(metadata={\"source\":\"Tests/docxs/sample1.docx\"}, page_content=\"et to occupy three lines of text with a font size of 58.5 pts. Depending on the screen width and ...\"),\n",
              " Document(metadata={\"source\":\"Tests/docxs/sample1.docx\"}, page_content=\"mbedded in the output ebook during conversion.\\nParagraph level formatting\\nYou can do crazy thin...\"),\n",
              " Document(metadata={\"source\":\"Tests/docxs/sample1.docx\"}, page_content=\"s, dropcaps and various types of text and paragraph level formatting.\\nTo see the DOCX conversion...\"),\n",
              " Document(metadata={\"source\":\"Tests/docxs/sample1.docx\"}, page_content=\"t a line of poetry retains its individual identity as a line even when the screen is  too narrow ...\"),\n",
              " Document(metadata={\"source\":\"Tests/docxs/sample1.docx\"}, page_content=\"gs are turned into a Table of Contents with Heading 1 being the topmost level, Heading 2 the seco...\"),\n",
              " Document(metadata={\"source\":\"Tests/docxs/sample1.docx\"}, page_content=\"ide styles for styling rather than inline text properties as demonstrated in the previous paragra...\"),\n",
              " Document(metadata={\"source\":\"Tests/docxs/sample1.docx\"}, page_content=\"tting and the use of embedded fonts.\\nHere is some bold, italic, bold-italic, underlined and stru...\"),\n",
              " Document(metadata={\"source\":\"Tests/docxs/sample1.docx\"}, page_content=\"don’t fare well in ebooks.\\nStructural Elements\\nMiscellaneous structural elements you can add ...\"),\n",
              " Document(metadata={\"source\":\"Tests/docxs/sample1.docx\"}, page_content=\"eir left indent, so if you want the ebook to have a multi-level Table of Contents, make sure you ...\"),\n",
              " Document(metadata={\"source\":\"Tests/docxs/sample1.docx\"}, page_content=\". That is because in Word, image positioning is specified in absolute units from the page boundar...\"),\n",
              " Document(metadata={\"source\":\"Tests/docxs/sample1.docx\"}, page_content=\"ght arrow images on the sides of this paragraph.\\nThe final type of image is a “block” image,...\"),\n",
              " Document(metadata={\"source\":\"Tests/docxs/sample1.docx\"}, page_content=\"ointing to the . Then we have a link that points back to the section on  in this document.\\nTable...\"),\n",
              " Document(metadata={\"source\":\"Tests/docxs/sample1.docx\"}, page_content=\"start of a section. In Word it is possible to specify how many lines of text a drop-cap should us...\"),\n",
              " Document(metadata={\"source\":\"Tests/docxs/sample1.docx\"}, page_content=\"Demonstration of DOCX support in calibre\\nThis document demonstrates the ability of the calibre D...\"),\n",
              " Document(metadata={\"source\":\"Tests/docxs/sample1.docx\"}, page_content=\"While you may run into trouble with the occasional table, the vast majority of common cases shoul...\"),\n",
              " Document(metadata={\"source\":\"Tests/docxs/sample1.docx\"}, page_content=\" green dot . Inline images do not cause breaks in the text and are usually small in size. The nex...\"),\n",
              " Document(metadata={\"source\":\"Tests/docxs/sample1.docx\"}, page_content=\"a nested table, i.e. a table inside another table. Additionally, the inner table has some of its ...\"),\n",
              " Document(metadata={\"source\":\"Tests/docxs/sample1.docx\"}, page_content=\"et’s look at a fancier table—one with alternating row colors and partial borders. This table ...\"),\n",
              " Document(metadata={\"source\":\"Tests/docxs/sample1.docx\"}, page_content=\"h the exception of lists that use fancy bullets, these get converted to regular bullets.\\nBullete...\"),\n",
              " Document(metadata={\"source\":\"Tests/docxs/sample1.docx\"}, page_content=\"ts:\\nOne\\nTwo\\nThis bullet uses an image as the bullet item\\nFour\\nFive\\nContinued Lists\\nOne\\nTw...\")]"
            ]
          },
          "execution_count": 16,
          "metadata": {},
          "output_type": "execute_result"
        }
      ],
      "source": [
        "similarity_docx"
      ]
    },
    {
      "cell_type": "code",
      "execution_count": 14,
      "metadata": {},
      "outputs": [
        {
          "data": {
            "text/plain": [
              "Document(metadata={\"source\":\"Tests/docxs/sample1.docx\"}, page_content=\"et to occupy three lines of text with a font size of 58.5 pts. Depending on the screen width and ...\")"
            ]
          },
          "execution_count": 14,
          "metadata": {},
          "output_type": "execute_result"
        }
      ],
      "source": [
        "similarity_docx[0]"
      ]
    },
    {
      "cell_type": "code",
      "execution_count": 15,
      "metadata": {},
      "outputs": [
        {
          "name": "stdout",
          "output_type": "stream",
          "text": [
            "StringRepr: <bound method PyCapsule.StringRepr of Document(metadata={\"source\":\"Tests/docxs/sample1.docx\"}, page_content=\"et to occupy three lines of text with a font size of 58.5 pts. Depending on the screen width and ...\")>\n",
            "----------------------------------------------\n",
            "_pybind11_conduit_v1_: <bound method PyCapsule._pybind11_conduit_v1_ of Document(metadata={\"source\":\"Tests/docxs/sample1.docx\"}, page_content=\"et to occupy three lines of text with a font size of 58.5 pts. Depending on the screen width and ...\")>\n",
            "----------------------------------------------\n",
            "embedding: None\n",
            "----------------------------------------------\n",
            "metadata: {'source': 'Tests/docxs/sample1.docx'}\n",
            "----------------------------------------------\n",
            "page_content: et to occupy three lines of text with a font size of 58.5 pts. Depending on the screen width and capabilities of the device you view the book on, this dropcap can look anything from perfect to ugly.\n",
            "Links\n",
            "Two kinds of links are possible, those that refer to an external website and those that refer to locations inside the document itself. Both are supported by calibre. For example, here is a link pointing to the . Then we have a link that points back to the section on  in this document.\n",
            "Table of \n",
            "----------------------------------------------\n"
          ]
        }
      ],
      "source": [
        "for attr_name in dir(similarity_docx[0]):\n",
        "    if not attr_name.startswith(\"__\"):  # Ignora atributos internos\n",
        "        try:\n",
        "            value = getattr(similarity_docx[0], attr_name)\n",
        "            print(f\"{attr_name}: {value}\")\n",
        "            print(\"----------------------------------------------\")\n",
        "        except AttributeError:\n",
        "            print(f\"{attr_name}: [não acessível]\")"
      ]
    }
  ],
  "metadata": {
    "colab": {
      "provenance": []
    },
    "kernelspec": {
      "display_name": "venv",
      "language": "python",
      "name": "python3"
    },
    "language_info": {
      "codemirror_mode": {
        "name": "ipython",
        "version": 3
      },
      "file_extension": ".py",
      "mimetype": "text/x-python",
      "name": "python",
      "nbconvert_exporter": "python",
      "pygments_lexer": "ipython3",
      "version": "3.12.3"
    }
  },
  "nbformat": 4,
  "nbformat_minor": 0
}
