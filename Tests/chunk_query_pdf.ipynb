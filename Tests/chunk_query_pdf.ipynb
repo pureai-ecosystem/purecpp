{
  "cells": [
    {
      "cell_type": "code",
      "execution_count": 1,
      "metadata": {
        "id": "dcXPWBxXGES3"
      },
      "outputs": [],
      "source": [
        "# !pip uninstall purecpp_libs purecpp_extract purecpp_chunks_clean"
      ]
    },
    {
      "cell_type": "code",
      "execution_count": 2,
      "metadata": {
        "colab": {
          "base_uri": "https://localhost:8080/"
        },
        "id": "7dtgLxkQBVU4",
        "outputId": "3f8c01bd-e43c-4b87-c5d9-032d3c7ecf01"
      },
      "outputs": [],
      "source": [
        "# !pip install purecpp_libs==0.0.10 purecpp_extract==0.0.10 purecpp_chunks_clean==0.0.10 purecpp_embed==0.0.10"
      ]
    },
    {
      "cell_type": "code",
      "execution_count": null,
      "metadata": {
        "colab": {
          "base_uri": "https://localhost:8080/"
        },
        "id": "Id24_ARrT_KY",
        "outputId": "aa82d813-2eb6-4260-f680-cb82953b626a"
      },
      "outputs": [],
      "source": [
        "\n",
        "# import os\n",
        "# os.environ[\"...\"] = \"\""
      ]
    },
    {
      "cell_type": "code",
      "execution_count": 4,
      "metadata": {
        "id": "TAd_tzUZBVU5"
      },
      "outputs": [],
      "source": [
        "import purecpp_libs as libs\n",
        "import purecpp_extract as ext\n",
        "\n",
        "import purecpp_chunks_clean as cc\n",
        "import purecpp_embed as emb\n"
      ]
    },
    {
      "cell_type": "code",
      "execution_count": 5,
      "metadata": {
        "id": "UZD-yrgDBVU5"
      },
      "outputs": [],
      "source": [
        "#verificar o tempo\n",
        "pdf_loader = ext.DOCXLoader(\"Tests/docxs/sample1.docx\") # Sobrecarregar pra poder passar uma lista\n",
        "pdf = pdf_loader.Load() # pra q seria bom isso de fazer o load depois?\n"
      ]
    },
    {
      "cell_type": "code",
      "execution_count": 6,
      "metadata": {
        "colab": {
          "base_uri": "https://localhost:8080/"
        },
        "id": "8y6h04DxIcx_",
        "outputId": "523c94d4-f573-45b2-9704-73a137c764c3"
      },
      "outputs": [
        {
          "data": {
            "text/plain": [
              "<purecpp_extract.DOCXLoader at 0x7ffaf6d47730>"
            ]
          },
          "execution_count": 6,
          "metadata": {},
          "output_type": "execute_result"
        }
      ],
      "source": [
        "pdf_loader"
      ]
    },
    {
      "cell_type": "code",
      "execution_count": 7,
      "metadata": {
        "colab": {
          "base_uri": "https://localhost:8080/"
        },
        "id": "OTBk0QSMHYYM",
        "outputId": "5d16f000-a6f0-4489-f6d9-649d39508824"
      },
      "outputs": [
        {
          "data": {
            "text/plain": [
              "[Document(metadata={\"source\":\"Tests/docxs/sample1.docx\"}, page_content=\"Demonstration of DOCX support in calibre\\nThis document demonstrates the ability of the calibre D...\")]"
            ]
          },
          "execution_count": 7,
          "metadata": {},
          "output_type": "execute_result"
        }
      ],
      "source": [
        "pdf"
      ]
    },
    {
      "cell_type": "code",
      "execution_count": 8,
      "metadata": {
        "colab": {
          "base_uri": "https://localhost:8080/"
        },
        "id": "NXGYjse4LRac",
        "outputId": "cf713c21-8deb-4ddd-bc76-029defcdcb0d"
      },
      "outputs": [
        {
          "data": {
            "text/plain": [
              "Document(metadata={\"source\":\"Tests/docxs/sample1.docx\"}, page_content=\"Demonstration of DOCX support in calibre\\nThis document demonstrates the ability of the calibre D...\")"
            ]
          },
          "execution_count": 8,
          "metadata": {},
          "output_type": "execute_result"
        }
      ],
      "source": [
        "pdf[0]"
      ]
    },
    {
      "cell_type": "code",
      "execution_count": 9,
      "metadata": {
        "colab": {
          "base_uri": "https://localhost:8080/",
          "height": 174
        },
        "id": "bOFQ6agVLhr0",
        "outputId": "19543be3-6d8a-4fcc-f35c-748422bf9d11"
      },
      "outputs": [
        {
          "data": {
            "text/plain": [
              "'Demonstration of DOCX support in calibre\\nThis document demonstrates the ability of the calibre DOCX Input plugin to convert the various typographic features in a Microsoft Word (2007 and newer) document. Convert this document to a modern ebook format, such as AZW3 for Kindles or EPUB for other ebook readers, to see it in action.\\nThere is support for images, tables, lists, footnotes, endnotes, links, dropcaps and various types of text and paragraph level formatting.\\nTo see the DOCX conversion in action, simply add this file to calibre using the “Add Books” button and then click “Convert”.  Set the output format in the top right corner of the conversion dialog to EPUB or AZW3 and click “OK”.\\nText Formatting\\nInline formatting\\nHere, we demonstrate various types of inline text formatting and the use of embedded fonts.\\nHere is some bold, italic, bold-italic, underlined and struck out  text. Then, we have a superscript and a subscript. Now we see some red, green and blue text. Some text with a yellow highlight. Some text in abox. Some text in inverse video.\\nA paragraph with styled text: subtle emphasisfollowed by strong text and intense emphasis. This paragraph uses document wide styles for styling rather than inline text properties as demonstrated in the previous paragraph — calibre can handle both with equal ease.\\nFun with fonts\\nThis document has embedded the Ubuntu font family. The body text is in the Ubuntu typeface, here is some text in the Ubuntu Mono typeface, notice how every letter has the same width, even i and m. Every embedded font will automatically be embedded in the output ebook during conversion.\\nParagraph level formatting\\nYou can do crazy things with paragraphs, if the urge strikes you. For instance this paragraph is right aligned and has a right border. It has also been given a light gray background.\\nFor the lovers of poetry amongst you, paragraphs with hanging indents, like this often come in handy. You can use hanging indents to ensure that a line of poetry retains its individual identity as a line even when the screen is  too narrow to display it as a single line. Not only does this paragraph have a hanging indent, it is also has an extra top margin, setting it apart from the preceding paragraph.\\nTables\\nTables in Word can vary from the extremely simple to the extremely complex. calibre tries to do its best when converting tables. While you may run into trouble with the occasional table, the vast majority of common cases should be converted very well, as demonstrated in this section. Note that for optimum results, when creating tables in Word, you should set their widths using percentages, rather than absolute units.  To the left of this paragraph is a floating two column table with a nice green border and header row.\\nNow let’s look at a fancier table—one with alternating row colors and partial borders. This table is stretched out to take 100% of the available width.\\nNext, we see a table with special formatting in various locations. Notice how the formatting for the header row and sub header rows is preserved.\\nSource: Fictitious data, for illustration purposes only\\nNext, we have something a little more complex, a nested table, i.e. a table inside another table. Additionally, the inner table has some of its cells merged. The table is displayed horizontally centered.\\nWe end with a fancy calendar, note how much of the original formatting is preserved. Note that this table will only display correctly on relatively wide screens. In general, very wide tables or tables whose cells have fixed width requirements don’t fare well in ebooks.\\nStructural Elements\\nMiscellaneous structural elements you can add to your document, like footnotes, endnotes, dropcaps and the like. \\nFootnotes & Endnotes\\nFootnotes and endnotes are automatically recognized and both are converted to endnotes, with backlinks for maximum ease of use in ebook devices.\\nDropcaps\\nD\\nrop caps are used to emphasize the leading paragraph at the start of a section. In Word it is possible to specify how many lines of text a drop-cap should use. Because of limitations in ebook technology, this is not possible when converting.  Instead, the converted drop cap will use font size and line height to simulate the effect as well as possible. While not as good as the original, the result is usually tolerable. This paragraph has a “D” dropcap set to occupy three lines of text with a font size of 58.5 pts. Depending on the screen width and capabilities of the device you view the book on, this dropcap can look anything from perfect to ugly.\\nLinks\\nTwo kinds of links are possible, those that refer to an external website and those that refer to locations inside the document itself. Both are supported by calibre. For example, here is a link pointing to the . Then we have a link that points back to the section on  in this document.\\nTable of Contents\\nThere are two approaches that calibre takes when generating a Table of Contents. The first is if the Word document has a Table of Contents itself. Provided that the Table of Contents uses hyperlinks, calibre will automatically use it. The levels of the Table of Contents are identified by their left indent, so if you want the ebook to have a multi-level Table of Contents, make sure you create a properly indented Table of Contents in Word.\\nIf no Table of Contents is found in the document, then a table of contents is automatically generated from the headings in the document. A heading is identified as something that has the Heading 1 or Heading 2, etc. style applied to it. These headings are turned into a Table of Contents with Heading 1 being the topmost level, Heading 2 the second level and so on.\\n You can see the Table of Contents created by calibre by clicking the Table of Contents button in whatever viewer you are using to view the converted ebook.\\nImages\\nImages can be of three main types. Inline images are images that are part of the normal text flow, like this image of a green dot . Inline images do not cause breaks in the text and are usually small in size. The next category of image is a floating image, one that “floats “ on the page and is surrounded by text. Word supports more types of floating images than are possible with current ebook technology, so the conversion maps floating images to simple left and right floats, as you can see with the left and right arrow images on the sides of this paragraph.\\nThe final type of image is a “block” image, one that becomes a paragraph on its own and has no text on either side. Below is a centered green dot.\\nCentered images like this are useful for large pictures that should be a focus of attention.\\nGenerally, it is not possible to translate the exact positioning of images from a Word document to an ebook. That is because in Word, image positioning is specified in absolute units from the page boundaries.  There is no analogous technology in ebooks, so the conversion will usually end up placing the image either centered or floating close to the point in the text where it was inserted, not necessarily where it appears on the page in Word.\\nLists\\nAll types of lists are supported by the conversion, with the exception of lists that use fancy bullets, these get converted to regular bullets.\\nBulleted List\\nOne\\nTwo\\nNumbered List\\nOne, with a very long line to demonstrate that the hanging indent for the list is working correctly\\nTwo\\nMulti-level Lists\\nOne\\nTwo\\nThree\\nFour with a very long line to demonstrate that the hanging indent for the list is working correctly.\\nFive\\nSix\\nA Multi-level list with bullets:\\nOne\\nTwo\\nThis bullet uses an image as the bullet item\\nFour\\nFive\\nContinued Lists\\nOne\\nTwo\\nAn interruption in our regularly scheduled listing, for this essential and very relevant public service announcement.\\nWe now resume our normal programming\\nFour\\n'"
            ]
          },
          "execution_count": 9,
          "metadata": {},
          "output_type": "execute_result"
        }
      ],
      "source": [
        "pdf[0].page_content"
      ]
    },
    {
      "cell_type": "code",
      "execution_count": 10,
      "metadata": {
        "colab": {
          "base_uri": "https://localhost:8080/"
        },
        "id": "ZR66x9o5GB6n",
        "outputId": "8501a134-de99-48c9-d7fd-92f6696393fe"
      },
      "outputs": [],
      "source": [
        "# print(type(pdf[0]))\n",
        "# for item in dir(pdf[0]):\n",
        "#     print(item)\n",
        "# print(type(dir(pdf[0])))\n",
        "# help(opt_struct)\n"
      ]
    },
    {
      "cell_type": "code",
      "execution_count": 11,
      "metadata": {
        "colab": {
          "base_uri": "https://localhost:8080/"
        },
        "id": "bv67-1GGJAu0",
        "outputId": "30197486-92fa-485b-fa83-7019fdf6939c"
      },
      "outputs": [
        {
          "name": "stdout",
          "output_type": "stream",
          "text": [
            "StringRepr: <bound method PyCapsule.StringRepr of Document(metadata={\"source\":\"Tests/docxs/sample1.docx\"}, page_content=\"Demonstration of DOCX support in calibre\\nThis document demonstrates the ability of the calibre D...\")>\n",
            "----------------------------------------------\n",
            "_pybind11_conduit_v1_: <bound method PyCapsule._pybind11_conduit_v1_ of Document(metadata={\"source\":\"Tests/docxs/sample1.docx\"}, page_content=\"Demonstration of DOCX support in calibre\\nThis document demonstrates the ability of the calibre D...\")>\n",
            "----------------------------------------------\n",
            "embedding: None\n",
            "----------------------------------------------\n",
            "metadata: {'source': 'Tests/docxs/sample1.docx'}\n",
            "----------------------------------------------\n",
            "page_content: Is a list of 7819 Pages\n",
            "Page 0 page_content :\n",
            "D \n",
            "----------------------------------------------\n"
          ]
        }
      ],
      "source": [
        "for attr_name in dir(pdf[0]):\n",
        "    if not attr_name.startswith(\"__\"):  # Ignora atributos internos\n",
        "        try:\n",
        "            value = getattr(pdf[0], attr_name)\n",
        "            if attr_name == \"page_content\":\n",
        "                print(f\"{attr_name}: Is a list of {len(value)} Pages\")\n",
        "                print(f\"Page 0 {attr_name} :\\n{value[0]} \")\n",
        "            else:\n",
        "              print(f\"{attr_name}: {value}\")\n",
        "            print(\"----------------------------------------------\")\n",
        "        except AttributeError:\n",
        "            print(f\"{attr_name}: [não acessível]\")"
      ]
    },
    {
      "cell_type": "code",
      "execution_count": 12,
      "metadata": {
        "id": "bxGLAn7iSqOi"
      },
      "outputs": [],
      "source": [
        "# help(pdf_loader)"
      ]
    },
    {
      "cell_type": "code",
      "execution_count": 13,
      "metadata": {
        "id": "FULkiChjBVU7"
      },
      "outputs": [],
      "source": [
        "# 2) CHUNKANDO COM ChunkDefault\n",
        "#    (divide texto em blocos de 300 chars, com overlap=50)\n",
        "# default_chunker = cc.ChunkDefault(chunk_size=300, overlap=50)\n",
        "chunk_size = 2000\n",
        "overlap= 200\n",
        "default_chunker = cc.ChunkDefault(chunk_size, overlap) "
      ]
    },
    {
      "cell_type": "code",
      "execution_count": 14,
      "metadata": {
        "id": "wAFR3RUpBVU7"
      },
      "outputs": [],
      "source": [
        "# std::vector<RAGLibrary::Document> ProcessSingleDocument(RAGLibrary::LoaderDataStruct &item);\n",
        "default_pdf = default_chunker.ProcessDocuments(pdf)"
      ]
    },
    {
      "cell_type": "code",
      "execution_count": 15,
      "metadata": {
        "colab": {
          "base_uri": "https://localhost:8080/"
        },
        "id": "ZjA8yE8jBVU8",
        "outputId": "c1f5e25d-8b1a-4f53-e5ea-2c15d130603e"
      },
      "outputs": [
        {
          "name": "stdout",
          "output_type": "stream",
          "text": [
            "ChunkDefault(50, 10) from  documents.size=5\n"
          ]
        }
      ],
      "source": [
        "print(f\"ChunkDefault(50, 10) from  documents.size={len(default_pdf)}\")"
      ]
    },
    {
      "cell_type": "code",
      "execution_count": 16,
      "metadata": {
        "colab": {
          "base_uri": "https://localhost:8080/"
        },
        "id": "LIWHSjDJNJPZ",
        "outputId": "b696f2eb-a53e-4ec3-9bb7-ba9130ab288d"
      },
      "outputs": [
        {
          "data": {
            "text/plain": [
              "Document(metadata={\"source\":\"Tests/docxs/sample1.docx\"}, page_content=\"Demonstration of DOCX support in calibre\\nThis document demonstrates the ability of the calibre D...\")"
            ]
          },
          "execution_count": 16,
          "metadata": {},
          "output_type": "execute_result"
        }
      ],
      "source": [
        "default_pdf[0]"
      ]
    },
    {
      "cell_type": "code",
      "execution_count": 17,
      "metadata": {
        "colab": {
          "base_uri": "https://localhost:8080/"
        },
        "id": "iduy2eP_OHqY",
        "outputId": "38c66161-5b11-4913-9f67-4495f1b80d64"
      },
      "outputs": [],
      "source": [
        "# print(type(default_pdf[0])) # purecpp_libs.purecpp_libs.RAGDocument\n",
        "# for item in dir(default_pdf[0]):\n",
        "#     print(item)"
      ]
    },
    {
      "cell_type": "code",
      "execution_count": 18,
      "metadata": {
        "colab": {
          "base_uri": "https://localhost:8080/"
        },
        "id": "ily7TuhZBVU8",
        "outputId": "9207ecc9-3bba-411a-8d6c-51bed918e38d"
      },
      "outputs": [
        {
          "name": "stdout",
          "output_type": "stream",
          "text": [
            "-----------------------------------------------------------------------------------------\n",
            "default\n",
            "Primeiro [0] METADATA => {'source': 'Tests/docxs/sample1.docx'}\n",
            "Primeiro [1] METADATA => {'source': 'Tests/docxs/sample1.docx'}\n",
            "Primeiro [2] METADATA => {'source': 'Tests/docxs/sample1.docx'}\n",
            "Último [2] METADATA => {'source': 'Tests/docxs/sample1.docx'}\n",
            "Último [3] METADATA => {'source': 'Tests/docxs/sample1.docx'}\n",
            "Último [4] METADATA => {'source': 'Tests/docxs/sample1.docx'}\n"
          ]
        }
      ],
      "source": [
        "\n",
        "print(\"-----------------------------------------------------------------------------------------\")\n",
        "print(\"default\")\n",
        "list_default_pdf = []\n",
        "# Garantir que temos ao menos 3 elementos\n",
        "n = len(default_pdf)\n",
        "first_n = default_pdf[:3]            # primeiros 3\n",
        "last_n = default_pdf[-3:] if n >= 3 else []  # últimos 3 (sem repetir os primeiros)\n",
        "# Adiciona os page_content dos primeiros\n",
        "for i, doc in enumerate(first_n):\n",
        "    print(f\"Primeiro [{i}] METADATA =>\", doc.metadata)\n",
        "    list_default_pdf.append(doc.page_content)\n",
        "# Adiciona os page_content dos últimos\n",
        "for i, doc in enumerate(last_n):\n",
        "    print(f\"Último [{n - 3 + i}] METADATA =>\", doc.metadata)\n",
        "    list_default_pdf.append(doc.page_content)\n"
      ]
    },
    {
      "cell_type": "code",
      "execution_count": 19,
      "metadata": {
        "colab": {
          "base_uri": "https://localhost:8080/"
        },
        "id": "uESlIyRnGB6o",
        "outputId": "2c70b965-4e04-44ba-b5de-173d2901108a"
      },
      "outputs": [
        {
          "name": "stdout",
          "output_type": "stream",
          "text": [
            " 0:  Demonstration of DOCX support in calibre\n",
            "This document demonstrates the ability of the calibre DOCX Input plugin to convert the various typographic features in a Microsoft Word (2007 and newer) document. Convert this document to a modern ebook format, such as AZW3 for Kindles or EPUB for other ebook readers, to see it in action.\n",
            "There is support for images, tables, lists, footnotes, endnotes, links, dropcaps and various types of text and paragraph level formatting.\n",
            "To see the DOCX conversion in action, simply add this file to calibre using the “Add Books” button and then click “Convert”.  Set the output format in the top right corner of the conversion dialog to EPUB or AZW3 and click “OK”.\n",
            "Text Formatting\n",
            "Inline formatting\n",
            "Here, we demonstrate various types of inline text formatting and the use of embedded fonts.\n",
            "Here is some bold, italic, bold-italic, underlined and struck out  text. Then, we have a superscript and a subscript. Now we see some red, green and blue text. Some text with a yellow highlight. Some text in abox. Some text in inverse video.\n",
            "A paragraph with styled text: subtle emphasisfollowed by strong text and intense emphasis. This paragraph uses document wide styles for styling rather than inline text properties as demonstrated in the previous paragraph — calibre can handle both with equal ease.\n",
            "Fun with fonts\n",
            "This document has embedded the Ubuntu font family. The body text is in the Ubuntu typeface, here is some text in the Ubuntu Mono typeface, notice how every letter has the same width, even i and m. Every embedded font will automatically be embedded in the output ebook during conversion.\n",
            "Paragraph level formatting\n",
            "You can do crazy things with paragraphs, if the urge strikes you. For instance this paragraph is right aligned and has a right border. It has also been given a light gray background.\n",
            "For the lovers of poetry amongst you, paragraphs with hanging indents, like this often come in handy. You can use hanging indents to ensure tha ...\n",
            " 1:   border. It has also been given a light gray background.\n",
            "For the lovers of poetry amongst you, paragraphs with hanging indents, like this often come in handy. You can use hanging indents to ensure that a line of poetry retains its individual identity as a line even when the screen is  too narrow to display it as a single line. Not only does this paragraph have a hanging indent, it is also has an extra top margin, setting it apart from the preceding paragraph.\n",
            "Tables\n",
            "Tables in Word can vary from the extremely simple to the extremely complex. calibre tries to do its best when converting tables. While you may run into trouble with the occasional table, the vast majority of common cases should be converted very well, as demonstrated in this section. Note that for optimum results, when creating tables in Word, you should set their widths using percentages, rather than absolute units.  To the left of this paragraph is a floating two column table with a nice green border and header row.\n",
            "Now let’s look at a fancier table—one with alternating row colors and partial borders. This table is stretched out to take 100% of the available width.\n",
            "Next, we see a table with special formatting in various locations. Notice how the formatting for the header row and sub header rows is preserved.\n",
            "Source: Fictitious data, for illustration purposes only\n",
            "Next, we have something a little more complex, a nested table, i.e. a table inside another table. Additionally, the inner table has some of its cells merged. The table is displayed horizontally centered.\n",
            "We end with a fancy calendar, note how much of the original formatting is preserved. Note that this table will only display correctly on relatively wide screens. In general, very wide tables or tables whose cells have fixed width requirements don’t fare well in ebooks.\n",
            "Structural Elements\n",
            "Miscellaneous structural elements you can add to your document, like footnotes, endnotes, dropcaps and the like. \n",
            "Footnotes & Endnotes\n",
            "Footnotes and en ...\n",
            " 2:  don’t fare well in ebooks.\n",
            "Structural Elements\n",
            "Miscellaneous structural elements you can add to your document, like footnotes, endnotes, dropcaps and the like. \n",
            "Footnotes & Endnotes\n",
            "Footnotes and endnotes are automatically recognized and both are converted to endnotes, with backlinks for maximum ease of use in ebook devices.\n",
            "Dropcaps\n",
            "D\n",
            "rop caps are used to emphasize the leading paragraph at the start of a section. In Word it is possible to specify how many lines of text a drop-cap should use. Because of limitations in ebook technology, this is not possible when converting.  Instead, the converted drop cap will use font size and line height to simulate the effect as well as possible. While not as good as the original, the result is usually tolerable. This paragraph has a “D” dropcap set to occupy three lines of text with a font size of 58.5 pts. Depending on the screen width and capabilities of the device you view the book on, this dropcap can look anything from perfect to ugly.\n",
            "Links\n",
            "Two kinds of links are possible, those that refer to an external website and those that refer to locations inside the document itself. Both are supported by calibre. For example, here is a link pointing to the . Then we have a link that points back to the section on  in this document.\n",
            "Table of Contents\n",
            "There are two approaches that calibre takes when generating a Table of Contents. The first is if the Word document has a Table of Contents itself. Provided that the Table of Contents uses hyperlinks, calibre will automatically use it. The levels of the Table of Contents are identified by their left indent, so if you want the ebook to have a multi-level Table of Contents, make sure you create a properly indented Table of Contents in Word.\n",
            "If no Table of Contents is found in the document, then a table of contents is automatically generated from the headings in the document. A heading is identified as something that has the Heading 1 or Heading 2, etc. style applied to it. These headin ...\n",
            " 3:  don’t fare well in ebooks.\n",
            "Structural Elements\n",
            "Miscellaneous structural elements you can add to your document, like footnotes, endnotes, dropcaps and the like. \n",
            "Footnotes & Endnotes\n",
            "Footnotes and endnotes are automatically recognized and both are converted to endnotes, with backlinks for maximum ease of use in ebook devices.\n",
            "Dropcaps\n",
            "D\n",
            "rop caps are used to emphasize the leading paragraph at the start of a section. In Word it is possible to specify how many lines of text a drop-cap should use. Because of limitations in ebook technology, this is not possible when converting.  Instead, the converted drop cap will use font size and line height to simulate the effect as well as possible. While not as good as the original, the result is usually tolerable. This paragraph has a “D” dropcap set to occupy three lines of text with a font size of 58.5 pts. Depending on the screen width and capabilities of the device you view the book on, this dropcap can look anything from perfect to ugly.\n",
            "Links\n",
            "Two kinds of links are possible, those that refer to an external website and those that refer to locations inside the document itself. Both are supported by calibre. For example, here is a link pointing to the . Then we have a link that points back to the section on  in this document.\n",
            "Table of Contents\n",
            "There are two approaches that calibre takes when generating a Table of Contents. The first is if the Word document has a Table of Contents itself. Provided that the Table of Contents uses hyperlinks, calibre will automatically use it. The levels of the Table of Contents are identified by their left indent, so if you want the ebook to have a multi-level Table of Contents, make sure you create a properly indented Table of Contents in Word.\n",
            "If no Table of Contents is found in the document, then a table of contents is automatically generated from the headings in the document. A heading is identified as something that has the Heading 1 or Heading 2, etc. style applied to it. These headin ...\n",
            " 4:   then a table of contents is automatically generated from the headings in the document. A heading is identified as something that has the Heading 1 or Heading 2, etc. style applied to it. These headings are turned into a Table of Contents with Heading 1 being the topmost level, Heading 2 the second level and so on.\n",
            " You can see the Table of Contents created by calibre by clicking the Table of Contents button in whatever viewer you are using to view the converted ebook.\n",
            "Images\n",
            "Images can be of three main types. Inline images are images that are part of the normal text flow, like this image of a green dot . Inline images do not cause breaks in the text and are usually small in size. The next category of image is a floating image, one that “floats “ on the page and is surrounded by text. Word supports more types of floating images than are possible with current ebook technology, so the conversion maps floating images to simple left and right floats, as you can see with the left and right arrow images on the sides of this paragraph.\n",
            "The final type of image is a “block” image, one that becomes a paragraph on its own and has no text on either side. Below is a centered green dot.\n",
            "Centered images like this are useful for large pictures that should be a focus of attention.\n",
            "Generally, it is not possible to translate the exact positioning of images from a Word document to an ebook. That is because in Word, image positioning is specified in absolute units from the page boundaries.  There is no analogous technology in ebooks, so the conversion will usually end up placing the image either centered or floating close to the point in the text where it was inserted, not necessarily where it appears on the page in Word.\n",
            "Lists\n",
            "All types of lists are supported by the conversion, with the exception of lists that use fancy bullets, these get converted to regular bullets.\n",
            "Bulleted List\n",
            "One\n",
            "Two\n",
            "Numbered List\n",
            "One, with a very long line to demonstrate that the hanging indent for the l ...\n",
            " 5:  h the exception of lists that use fancy bullets, these get converted to regular bullets.\n",
            "Bulleted List\n",
            "One\n",
            "Two\n",
            "Numbered List\n",
            "One, with a very long line to demonstrate that the hanging indent for the list is working correctly\n",
            "Two\n",
            "Multi-level Lists\n",
            "One\n",
            "Two\n",
            "Three\n",
            "Four with a very long line to demonstrate that the hanging indent for the list is working correctly.\n",
            "Five\n",
            "Six\n",
            "A Multi-level list with bullets:\n",
            "One\n",
            "Two\n",
            "This bullet uses an image as the bullet item\n",
            "Four\n",
            "Five\n",
            "Continued Lists\n",
            "One\n",
            "Two\n",
            "An interruption in our regularly scheduled listing, for this essential and very relevant public service announcement.\n",
            "We now resume our normal programming\n",
            "Four\n",
            " ...\n",
            "-----------------------------------------------------------------------------------------\n"
          ]
        }
      ],
      "source": [
        "for i, doc in enumerate(list_default_pdf):\n",
        "    print(f\" {i}:  {doc} ...\")\n",
        "print(\"-----------------------------------------------------------------------------------------\")"
      ]
    },
    {
      "cell_type": "code",
      "execution_count": 20,
      "metadata": {},
      "outputs": [],
      "source": [
        "q_chunker = cc.ChunkQuery()"
      ]
    },
    {
      "cell_type": "code",
      "execution_count": 21,
      "metadata": {},
      "outputs": [
        {
          "name": "stdout",
          "output_type": "stream",
          "text": [
            "<purecpp_chunks_clean.ChunkQuery object at 0x7ffaf6d72270>\n"
          ]
        }
      ],
      "source": [
        "print(q_chunker)"
      ]
    },
    {
      "cell_type": "code",
      "execution_count": 22,
      "metadata": {},
      "outputs": [
        {
          "data": {
            "text/plain": [
              "Document(metadata={}, page_content=\"O que faz o Ministério da Verdade?\", embedding=[0.0040929, -0.00535881, -0.00257938, -0.00143563, -0.0243868, ...])"
            ]
          },
          "execution_count": 22,
          "metadata": {},
          "output_type": "execute_result"
        }
      ],
      "source": [
        "q_chunker.Query(\"O que faz o Ministério da Verdade?\")"
      ]
    },
    {
      "cell_type": "code",
      "execution_count": 23,
      "metadata": {},
      "outputs": [
        {
          "name": "stdout",
          "output_type": "stream",
          "text": [
            "<class 'list'>\n"
          ]
        }
      ],
      "source": [
        "print(type(default_pdf))"
      ]
    },
    {
      "cell_type": "code",
      "execution_count": 24,
      "metadata": {},
      "outputs": [],
      "source": [
        "# q_chunker.CreateVD(default_pdf)"
      ]
    },
    {
      "cell_type": "markdown",
      "metadata": {},
      "source": []
    },
    {
      "cell_type": "code",
      "execution_count": 25,
      "metadata": {},
      "outputs": [],
      "source": [
        "from purecpp_embed import EmbeddingOpenAI\n",
        "\n",
        "embedding = EmbeddingOpenAI()\n",
        "embedding_docs = embedding.GenerateEmbeddings(default_pdf, model=\"text-embedding-ada-002\")"
      ]
    },
    {
      "cell_type": "code",
      "execution_count": null,
      "metadata": {},
      "outputs": [],
      "source": []
    },
    {
      "cell_type": "markdown",
      "metadata": {},
      "source": []
    }
  ],
  "metadata": {
    "colab": {
      "provenance": []
    },
    "kernelspec": {
      "display_name": "venv",
      "language": "python",
      "name": "python3"
    },
    "language_info": {
      "codemirror_mode": {
        "name": "ipython",
        "version": 3
      },
      "file_extension": ".py",
      "mimetype": "text/x-python",
      "name": "python",
      "nbconvert_exporter": "python",
      "pygments_lexer": "ipython3",
      "version": "3.12.3"
    }
  },
  "nbformat": 4,
  "nbformat_minor": 0
}
